{
 "cells": [
  {
   "cell_type": "code",
   "execution_count": 32,
   "metadata": {
    "ExecuteTime": {
     "end_time": "2020-03-10T14:55:45.795000+01:00",
     "start_time": "2020-03-10T13:55:45.793Z"
    }
   },
   "outputs": [],
   "source": [
    "using CSV"
   ]
  },
  {
   "cell_type": "code",
   "execution_count": 34,
   "metadata": {
    "ExecuteTime": {
     "end_time": "2020-03-10T14:56:02.859000+01:00",
     "start_time": "2020-03-10T13:56:02.850Z"
    }
   },
   "outputs": [],
   "source": [
    "words_nltk = CSV.read(\"../data/words_nltk.csv\");"
   ]
  },
  {
   "cell_type": "code",
   "execution_count": 35,
   "metadata": {
    "ExecuteTime": {
     "end_time": "2020-03-10T14:56:03.714000+01:00",
     "start_time": "2020-03-10T13:56:03.705Z"
    }
   },
   "outputs": [
    {
     "name": "stderr",
     "output_type": "stream",
     "text": [
      "┌ Warning: `getindex(df::DataFrame, col_ind::ColumnIndex)` is deprecated, use `df[!, col_ind]` instead.\n",
      "│   caller = top-level scope at In[35]:1\n",
      "└ @ Core In[35]:1\n"
     ]
    }
   ],
   "source": [
    "words_nltk = Array(words_nltk[:2]);"
   ]
  },
  {
   "cell_type": "code",
   "execution_count": 36,
   "metadata": {
    "ExecuteTime": {
     "end_time": "2020-03-10T14:56:08.800000+01:00",
     "start_time": "2020-03-10T13:56:08.340Z"
    }
   },
   "outputs": [
    {
     "data": {
      "text/plain": [
       "236736-element Array{String,1}:\n",
       " \"A\"        \n",
       " \"a\"        \n",
       " \"aa\"       \n",
       " \"aal\"      \n",
       " \"aalii\"    \n",
       " \"aam\"      \n",
       " \"Aani\"     \n",
       " \"aardvark\" \n",
       " \"aardwolf\" \n",
       " \"Aaron\"    \n",
       " \"Aaronic\"  \n",
       " \"Aaronical\"\n",
       " \"Aaronite\" \n",
       " ⋮          \n",
       " \"word\"     \n",
       " \"work\"     \n",
       " \"worm\"     \n",
       " \"wound\"    \n",
       " \"writing\"  \n",
       " \"wrong\"    \n",
       " \"year\"     \n",
       " \"yellow\"   \n",
       " \"yes\"      \n",
       " \"yesterday\"\n",
       " \"you\"      \n",
       " \"young\"    "
      ]
     },
     "execution_count": 36,
     "metadata": {},
     "output_type": "execute_result"
    }
   ],
   "source": [
    "words_nltk"
   ]
  },
  {
   "cell_type": "code",
   "execution_count": 37,
   "metadata": {
    "ExecuteTime": {
     "end_time": "2020-03-10T14:56:13.598000+01:00",
     "start_time": "2020-03-10T13:56:13.594Z"
    }
   },
   "outputs": [
    {
     "data": {
      "text/plain": [
       "edit_distance (generic function with 1 method)"
      ]
     },
     "execution_count": 37,
     "metadata": {},
     "output_type": "execute_result"
    }
   ],
   "source": [
    "function edit_distance(X::String,Y::String)\n",
    "    len_x = length(X)\n",
    "    len_y = length(Y)\n",
    "    D = zeros(Int, len_x+1,len_y+1)\n",
    "\n",
    "    @inbounds for i in 1:(len_x+1)\n",
    "        for j in 1:(len_y+1)\n",
    "            if i==1\n",
    "                D[i,j] = j\n",
    "            elseif j==1\n",
    "                D[i,j] = i\n",
    "            elseif X[i-1] == Y[j-1]\n",
    "                D[i,j] = D[i-1,j-1]\n",
    "            else\n",
    "                D[i,j] = 1+min(D[i,j-1], D[i-1,j], D[i-1,j-1])\n",
    "            end\n",
    "        end\n",
    "    end\n",
    "    return D[len_x,len_y]\n",
    "end"
   ]
  },
  {
   "cell_type": "code",
   "execution_count": 38,
   "metadata": {
    "ExecuteTime": {
     "end_time": "2020-03-10T14:56:14.003000+01:00",
     "start_time": "2020-03-10T13:56:13.818Z"
    },
    "scrolled": true
   },
   "outputs": [
    {
     "data": {
      "text/plain": [
       "3"
      ]
     },
     "execution_count": 38,
     "metadata": {},
     "output_type": "execute_result"
    }
   ],
   "source": [
    "edit_distance(\"lik\",\"cat\")"
   ]
  },
  {
   "cell_type": "code",
   "execution_count": 41,
   "metadata": {
    "ExecuteTime": {
     "end_time": "2020-03-10T14:56:26.747000+01:00",
     "start_time": "2020-03-10T13:56:26.745Z"
    }
   },
   "outputs": [],
   "source": [
    "using BenchmarkTools"
   ]
  },
  {
   "cell_type": "code",
   "execution_count": 42,
   "metadata": {
    "ExecuteTime": {
     "end_time": "2020-03-10T14:56:29.859000+01:00",
     "start_time": "2020-03-10T13:56:27.128Z"
    },
    "scrolled": true
   },
   "outputs": [
    {
     "data": {
      "text/plain": [
       "BenchmarkTools.Trial: \n",
       "  memory estimate:  1.14 KiB\n",
       "  allocs estimate:  1\n",
       "  --------------\n",
       "  minimum time:     387.776 ns (0.00% GC)\n",
       "  median time:      403.776 ns (0.00% GC)\n",
       "  mean time:        450.889 ns (4.93% GC)\n",
       "  maximum time:     6.260 μs (87.73% GC)\n",
       "  --------------\n",
       "  samples:          10000\n",
       "  evals/sample:     201"
      ]
     },
     "execution_count": 42,
     "metadata": {},
     "output_type": "execute_result"
    }
   ],
   "source": [
    "@benchmark edit_distance(\"exponential\", \"polynomial\")"
   ]
  },
  {
   "cell_type": "code",
   "execution_count": 43,
   "metadata": {
    "ExecuteTime": {
     "end_time": "2020-03-10T14:56:29.942000+01:00",
     "start_time": "2020-03-10T13:56:29.119Z"
    }
   },
   "outputs": [
    {
     "data": {
      "text/plain": [
       "compute_distances (generic function with 1 method)"
      ]
     },
     "execution_count": 43,
     "metadata": {},
     "output_type": "execute_result"
    }
   ],
   "source": [
    "function compute_distances(mistake,words) \n",
    "    cy_distances = []\n",
    "    for word in words\n",
    "        #ed = edit_distance(mistake, word)\n",
    "        push!(cy_distances,edit_distance(mistake, word))\n",
    "    end\n",
    "    return cy_distances\n",
    "end"
   ]
  },
  {
   "cell_type": "code",
   "execution_count": 44,
   "metadata": {
    "ExecuteTime": {
     "end_time": "2020-03-10T14:56:30.374000+01:00",
     "start_time": "2020-03-10T13:56:29.254Z"
    }
   },
   "outputs": [
    {
     "name": "stdout",
     "output_type": "stream",
     "text": [
      "  0.132923 seconds (243.33 k allocations: 181.485 MiB, 20.07% gc time)\n"
     ]
    },
    {
     "data": {
      "text/plain": [
       "\"draine\""
      ]
     },
     "execution_count": 44,
     "metadata": {},
     "output_type": "execute_result"
    }
   ],
   "source": [
    "mistake = \"drauing\"\n",
    "@time distances = compute_distances(mistake,words_nltk); closest_word = words_nltk[argmin(distances)]"
   ]
  },
  {
   "cell_type": "code",
   "execution_count": 45,
   "metadata": {
    "ExecuteTime": {
     "end_time": "2020-03-10T14:56:41.833000+01:00",
     "start_time": "2020-03-10T13:56:30.526Z"
    }
   },
   "outputs": [
    {
     "data": {
      "text/plain": [
       "BenchmarkTools.Trial: \n",
       "  memory estimate:  181.19 MiB\n",
       "  allocs estimate:  236754\n",
       "  --------------\n",
       "  minimum time:     84.817 ms (5.48% GC)\n",
       "  median time:      92.001 ms (9.94% GC)\n",
       "  mean time:        92.580 ms (9.69% GC)\n",
       "  maximum time:     104.442 ms (14.45% GC)\n",
       "  --------------\n",
       "  samples:          55\n",
       "  evals/sample:     1"
      ]
     },
     "execution_count": 45,
     "metadata": {},
     "output_type": "execute_result"
    }
   ],
   "source": [
    "@benchmark compute_distances(mistake,words_nltk)"
   ]
  },
  {
   "cell_type": "code",
   "execution_count": 46,
   "metadata": {
    "ExecuteTime": {
     "end_time": "2020-03-10T14:56:41.901000+01:00",
     "start_time": "2020-03-10T13:56:31.954Z"
    }
   },
   "outputs": [
    {
     "data": {
      "text/plain": [
       "compute_distances2 (generic function with 1 method)"
      ]
     },
     "execution_count": 46,
     "metadata": {},
     "output_type": "execute_result"
    }
   ],
   "source": [
    "function compute_distances2(mistake,words) \n",
    "    cy_distances = zeros(Int64,length(words))\n",
    "    for (i,word) in enumerate(words)\n",
    "        cy_distances[i] = edit_distance(mistake, word)\n",
    "    end\n",
    "    return cy_distances\n",
    "end"
   ]
  },
  {
   "cell_type": "code",
   "execution_count": 47,
   "metadata": {
    "ExecuteTime": {
     "end_time": "2020-03-10T14:56:41.902000+01:00",
     "start_time": "2020-03-10T13:56:32.955Z"
    }
   },
   "outputs": [],
   "source": [
    "using BenchmarkTools"
   ]
  },
  {
   "cell_type": "code",
   "execution_count": 48,
   "metadata": {
    "ExecuteTime": {
     "end_time": "2020-03-10T14:56:42.022000+01:00",
     "start_time": "2020-03-10T13:56:33.180Z"
    }
   },
   "outputs": [
    {
     "name": "stdout",
     "output_type": "stream",
     "text": [
      "  0.102357 seconds (249.78 k allocations: 180.627 MiB, 11.86% gc time)\n"
     ]
    },
    {
     "data": {
      "text/plain": [
       "\"draine\""
      ]
     },
     "execution_count": 48,
     "metadata": {},
     "output_type": "execute_result"
    }
   ],
   "source": [
    "mistake = \"drauing\"\n",
    "@time distances = compute_distances2(mistake,words_nltk); closest_word = words_nltk[argmin(distances)]"
   ]
  },
  {
   "cell_type": "code",
   "execution_count": 49,
   "metadata": {
    "ExecuteTime": {
     "end_time": "2020-03-10T14:56:53.122000+01:00",
     "start_time": "2020-03-10T13:56:33.417Z"
    }
   },
   "outputs": [
    {
     "data": {
      "text/plain": [
       "BenchmarkTools.Trial: \n",
       "  memory estimate:  180.00 MiB\n",
       "  allocs estimate:  236738\n",
       "  --------------\n",
       "  minimum time:     82.382 ms (4.15% GC)\n",
       "  median time:      91.012 ms (9.37% GC)\n",
       "  mean time:        92.056 ms (9.30% GC)\n",
       "  maximum time:     116.768 ms (12.84% GC)\n",
       "  --------------\n",
       "  samples:          55\n",
       "  evals/sample:     1"
      ]
     },
     "execution_count": 49,
     "metadata": {},
     "output_type": "execute_result"
    }
   ],
   "source": [
    "@benchmark compute_distances2($mistake, $words_nltk)"
   ]
  },
  {
   "cell_type": "code",
   "execution_count": 50,
   "metadata": {
    "ExecuteTime": {
     "end_time": "2020-03-10T14:56:53.132000+01:00",
     "start_time": "2020-03-10T13:56:34.227Z"
    }
   },
   "outputs": [
    {
     "name": "stdout",
     "output_type": "stream",
     "text": [
      "  0.002577 seconds (50 allocations: 1.809 MiB)\n"
     ]
    }
   ],
   "source": [
    "@time cy_distances = zeros(Int64,length(words_nltk));"
   ]
  },
  {
   "cell_type": "code",
   "execution_count": 52,
   "metadata": {
    "ExecuteTime": {
     "end_time": "2020-03-10T14:56:53.203000+01:00",
     "start_time": "2020-03-10T13:56:35.565Z"
    }
   },
   "outputs": [
    {
     "data": {
      "text/plain": [
       "compute_distances3 (generic function with 1 method)"
      ]
     },
     "execution_count": 52,
     "metadata": {},
     "output_type": "execute_result"
    }
   ],
   "source": [
    "function compute_distances3(mistake,words) \n",
    "    cy_distances = zeros(Int64,length(words))\n",
    "    for i in 1:length(words)\n",
    "        cy_distances[i] = edit_distance(mistake, words[i])\n",
    "    end\n",
    "    return cy_distances\n",
    "end"
   ]
  },
  {
   "cell_type": "code",
   "execution_count": 53,
   "metadata": {
    "ExecuteTime": {
     "end_time": "2020-03-10T14:57:05.174000+01:00",
     "start_time": "2020-03-10T13:56:36.431Z"
    }
   },
   "outputs": [
    {
     "data": {
      "text/plain": [
       "BenchmarkTools.Trial: \n",
       "  memory estimate:  180.00 MiB\n",
       "  allocs estimate:  236738\n",
       "  --------------\n",
       "  minimum time:     81.567 ms (4.07% GC)\n",
       "  median time:      91.518 ms (9.14% GC)\n",
       "  mean time:        91.744 ms (9.35% GC)\n",
       "  maximum time:     109.734 ms (9.85% GC)\n",
       "  --------------\n",
       "  samples:          55\n",
       "  evals/sample:     1"
      ]
     },
     "execution_count": 53,
     "metadata": {},
     "output_type": "execute_result"
    }
   ],
   "source": [
    "@benchmark compute_distances3($mistake, $words_nltk)"
   ]
  },
  {
   "cell_type": "markdown",
   "metadata": {},
   "source": [
    "### Multithreading version"
   ]
  },
  {
   "cell_type": "code",
   "execution_count": 54,
   "metadata": {
    "ExecuteTime": {
     "end_time": "2020-03-10T14:57:07.337000+01:00",
     "start_time": "2020-03-10T13:57:07.303Z"
    }
   },
   "outputs": [
    {
     "data": {
      "text/plain": [
       "8"
      ]
     },
     "execution_count": 54,
     "metadata": {},
     "output_type": "execute_result"
    }
   ],
   "source": [
    "Base.Threads.nthreads()"
   ]
  },
  {
   "cell_type": "code",
   "execution_count": 55,
   "metadata": {
    "ExecuteTime": {
     "end_time": "2020-03-10T14:57:09.017000+01:00",
     "start_time": "2020-03-10T13:57:08.912Z"
    }
   },
   "outputs": [
    {
     "data": {
      "text/plain": [
       "compute_distances4 (generic function with 1 method)"
      ]
     },
     "execution_count": 55,
     "metadata": {},
     "output_type": "execute_result"
    }
   ],
   "source": [
    "function compute_distances4(mistake,words) \n",
    "     cy_distances = zeros(Int64,length(words))\n",
    "     Threads.@threads for i in 1:length(words)\n",
    "        cy_distances[i] = edit_distance(mistake, words[i])\n",
    "    end\n",
    "    return cy_distances\n",
    "end"
   ]
  },
  {
   "cell_type": "code",
   "execution_count": 56,
   "metadata": {
    "ExecuteTime": {
     "end_time": "2020-03-10T14:57:10.281000+01:00",
     "start_time": "2020-03-10T13:57:10.194Z"
    },
    "scrolled": true
   },
   "outputs": [
    {
     "name": "stdout",
     "output_type": "stream",
     "text": [
      "  0.082818 seconds (288.83 k allocations: 182.673 MiB, 25.39% gc time)\n"
     ]
    },
    {
     "data": {
      "text/plain": [
       "\"draine\""
      ]
     },
     "execution_count": 56,
     "metadata": {},
     "output_type": "execute_result"
    }
   ],
   "source": [
    "mistake = \"drauing\"\n",
    "@time distances = compute_distances4(mistake,words_nltk); closest_word =  words_nltk[argmin(distances)]"
   ]
  },
  {
   "cell_type": "code",
   "execution_count": 59,
   "metadata": {
    "ExecuteTime": {
     "end_time": "2020-03-10T14:57:31.576000+01:00",
     "start_time": "2020-03-10T13:57:30.681Z"
    },
    "scrolled": true
   },
   "outputs": [],
   "source": [
    "using StaticArrays"
   ]
  },
  {
   "cell_type": "code",
   "execution_count": 60,
   "metadata": {
    "ExecuteTime": {
     "end_time": "2020-03-10T14:57:31.708000+01:00",
     "start_time": "2020-03-10T13:57:30.917Z"
    }
   },
   "outputs": [
    {
     "data": {
      "text/plain": [
       "edit_distance_opt (generic function with 1 method)"
      ]
     },
     "execution_count": 60,
     "metadata": {},
     "output_type": "execute_result"
    }
   ],
   "source": [
    "function edit_distance_opt(X::String,Y::String)\n",
    "    len_x = length(X)\n",
    "    len_y = length(Y)\n",
    "    D = StaticArrays.zeros(Int, len_x+1, len_y+1)\n",
    "\n",
    "    @inbounds for i in 1:(len_x+1)\n",
    "        for j in 1:(len_y+1)\n",
    "            if i==1\n",
    "                D[i,j] = j\n",
    "            elseif j==1\n",
    "                D[i,j] = i\n",
    "            elseif X[i-1] == Y[j-1]\n",
    "                D[i,j] = D[i-1,j-1]\n",
    "            else\n",
    "                D[i,j] = 1+min(D[i,j-1], D[i-1,j], D[i-1,j-1])\n",
    "            end\n",
    "        end\n",
    "    end\n",
    "    return D[len_x,len_y]\n",
    "end"
   ]
  },
  {
   "cell_type": "code",
   "execution_count": 61,
   "metadata": {
    "ExecuteTime": {
     "end_time": "2020-03-10T14:57:34.612000+01:00",
     "start_time": "2020-03-10T13:57:32.909Z"
    }
   },
   "outputs": [
    {
     "data": {
      "text/plain": [
       "BenchmarkTools.Trial: \n",
       "  memory estimate:  208 bytes\n",
       "  allocs estimate:  1\n",
       "  --------------\n",
       "  minimum time:     70.334 ns (0.00% GC)\n",
       "  median time:      72.413 ns (0.00% GC)\n",
       "  mean time:        79.702 ns (5.24% GC)\n",
       "  maximum time:     1.392 μs (88.86% GC)\n",
       "  --------------\n",
       "  samples:          10000\n",
       "  evals/sample:     976"
      ]
     },
     "execution_count": 61,
     "metadata": {},
     "output_type": "execute_result"
    }
   ],
   "source": [
    "@benchmark edit_distance_opt(\"lik\",\"cat\")"
   ]
  },
  {
   "cell_type": "code",
   "execution_count": 62,
   "metadata": {
    "ExecuteTime": {
     "end_time": "2020-03-10T14:57:35.194000+01:00",
     "start_time": "2020-03-10T13:57:35.114Z"
    }
   },
   "outputs": [
    {
     "data": {
      "text/plain": [
       "compute_distances_static (generic function with 1 method)"
      ]
     },
     "execution_count": 62,
     "metadata": {},
     "output_type": "execute_result"
    }
   ],
   "source": [
    "function compute_distances_static(mistake,words) \n",
    "     cy_distances = zeros(Int64,length(words))\n",
    "     Threads.@threads for i in 1:length(words)\n",
    "        cy_distances[i] = edit_distance_opt(mistake, words[i])\n",
    "    end\n",
    "    return cy_distances\n",
    "end"
   ]
  },
  {
   "cell_type": "code",
   "execution_count": 64,
   "metadata": {
    "ExecuteTime": {
     "end_time": "2020-03-10T14:57:37.126000+01:00",
     "start_time": "2020-03-10T13:57:37.094Z"
    }
   },
   "outputs": [
    {
     "name": "stdout",
     "output_type": "stream",
     "text": [
      "  0.028281 seconds (236.80 k allocations: 180.006 MiB)\n"
     ]
    }
   ],
   "source": [
    "mistake = \"drauing\"\n",
    "@time distances = compute_distances_static(mistake,words_nltk);"
   ]
  },
  {
   "cell_type": "code",
   "execution_count": 65,
   "metadata": {
    "ExecuteTime": {
     "end_time": "2020-03-10T14:57:50.635000+01:00",
     "start_time": "2020-03-10T13:57:39.716Z"
    }
   },
   "outputs": [
    {
     "data": {
      "text/plain": [
       "BenchmarkTools.Trial: \n",
       "  memory estimate:  180.01 MiB\n",
       "  allocs estimate:  236796\n",
       "  --------------\n",
       "  minimum time:     19.449 ms (0.00% GC)\n",
       "  median time:      54.227 ms (57.61% GC)\n",
       "  mean time:        41.103 ms (45.32% GC)\n",
       "  maximum time:     62.321 ms (53.86% GC)\n",
       "  --------------\n",
       "  samples:          122\n",
       "  evals/sample:     1"
      ]
     },
     "execution_count": 65,
     "metadata": {},
     "output_type": "execute_result"
    }
   ],
   "source": [
    "@benchmark distances = compute_distances_static(mistake, words_nltk)"
   ]
  },
  {
   "cell_type": "markdown",
   "metadata": {},
   "source": [
    "### String distances\n"
   ]
  },
  {
   "cell_type": "code",
   "execution_count": 72,
   "metadata": {
    "ExecuteTime": {
     "end_time": "2020-03-10T14:58:02.860000+01:00",
     "start_time": "2020-03-10T13:58:02.858Z"
    }
   },
   "outputs": [],
   "source": [
    "using StringDistances"
   ]
  },
  {
   "cell_type": "code",
   "execution_count": 73,
   "metadata": {
    "ExecuteTime": {
     "end_time": "2020-03-10T14:58:03.108000+01:00",
     "start_time": "2020-03-10T13:58:03.105Z"
    }
   },
   "outputs": [
    {
     "data": {
      "text/plain": [
       "1"
      ]
     },
     "execution_count": 73,
     "metadata": {},
     "output_type": "execute_result"
    }
   ],
   "source": [
    "evaluate(Levenshtein(), \"New York\", \"New Yorks\")"
   ]
  },
  {
   "cell_type": "code",
   "execution_count": 74,
   "metadata": {
    "ExecuteTime": {
     "end_time": "2020-03-10T14:58:03.301000+01:00",
     "start_time": "2020-03-10T13:58:03.296Z"
    }
   },
   "outputs": [
    {
     "data": {
      "text/plain": [
       "compute_distances_stringdistances (generic function with 1 method)"
      ]
     },
     "execution_count": 74,
     "metadata": {},
     "output_type": "execute_result"
    }
   ],
   "source": [
    "function compute_distances_stringdistances(mistake,words) \n",
    "     measure = Levenshtein()\n",
    "     cy_distances = zeros(Int64,length(words))\n",
    "     Threads.@threads for i in 1:length(words)\n",
    "        cy_distances[i] = evaluate(measure, mistake, words[i])\n",
    "    end\n",
    "    return cy_distances\n",
    "end"
   ]
  },
  {
   "cell_type": "code",
   "execution_count": null,
   "metadata": {
    "ExecuteTime": {
     "start_time": "2020-03-10T13:58:03.847Z"
    }
   },
   "outputs": [],
   "source": [
    "@benchmark distances = compute_distances_stringdistances(mistake, words_nltk)"
   ]
  },
  {
   "cell_type": "code",
   "execution_count": null,
   "metadata": {},
   "outputs": [],
   "source": []
  }
 ],
 "metadata": {
  "kernelspec": {
   "display_name": "Julia 1.3.0",
   "language": "julia",
   "name": "julia-1.3"
  },
  "language_info": {
   "file_extension": ".jl",
   "mimetype": "application/julia",
   "name": "julia",
   "version": "1.3.0"
  },
  "toc": {
   "base_numbering": 1,
   "nav_menu": {},
   "number_sections": true,
   "sideBar": true,
   "skip_h1_title": false,
   "title_cell": "Table of Contents",
   "title_sidebar": "Contents",
   "toc_cell": false,
   "toc_position": {},
   "toc_section_display": true,
   "toc_window_display": false
  }
 },
 "nbformat": 4,
 "nbformat_minor": 1
}
